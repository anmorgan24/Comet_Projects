{
 "cells": [
  {
   "cell_type": "markdown",
   "id": "1b303e7f",
   "metadata": {},
   "source": [
    "<img align='left' src=\"https://cdn.comet.ml/img/notebook_logo.png\">"
   ]
  },
  {
   "cell_type": "markdown",
   "id": "44237c63",
   "metadata": {},
   "source": [
    "\n",
    "# 🏋 Custom Training with YOLOv5 + Comet Artifacts\n",
    "___\n",
    "\n",
    "Comet makes tracking your custom model and dataset easier than ever, so you can focus on more important tasks at hand. In this notebook, we'll demonstrate how to use Comet with Yolov5 to train a dataset Artifact and track model metrics, inspect model outputs, restart interrupted runs, and more!\n",
    "\n",
    "Comet Artifacts allow you to version  any type of data asset, as well as track their lineages through a project. For this tutorial, we'll be using the publicly-available `penguin-detection-dataset`, but feel free to create your own, or upload your trained yolov5 model as an Artifact at the end of this tutorial! To learn more about how to create your own Artifacts, check out [this tutorial](https://colab.research.google.com/drive/1eOL6mJGzM7F1hPd3Wu4VsLZp8SjMrLbp?authuser=1#scrollTo=zeUyqpKXLLmt)!"
   ]
  },
  {
   "cell_type": "markdown",
   "id": "a9f20164",
   "metadata": {},
   "source": [
    "# 🔩 Install Requirements & Set Up\n",
    "\n",
    "___"
   ]
  },
  {
   "cell_type": "code",
   "execution_count": null,
   "id": "9482db9f",
   "metadata": {},
   "outputs": [],
   "source": [
    "%pip install comet_ml --quiet"
   ]
  },
  {
   "cell_type": "markdown",
   "id": "d959aca5",
   "metadata": {},
   "source": [
    "The following cell will ask for your Comet API key. You can find it at the link provided, or, if you don't have account yet, [create one here for free](https://www.comet.com/signup?utm_source=yolov5&utm_medium=partner&utm_campaign=online_partner_yolov5_integration)."
   ]
  },
  {
   "cell_type": "code",
   "execution_count": null,
   "id": "36994ce8",
   "metadata": {},
   "outputs": [],
   "source": [
    "import comet_ml\n",
    "comet_ml.init(project_name='penguin-detection',\n",
    "              workspace=\"anmorgan24\")"
   ]
  },
  {
   "cell_type": "code",
   "execution_count": null,
   "id": "0e707609",
   "metadata": {},
   "outputs": [],
   "source": [
    "!git clone https://github.com/DN6/yolov5 && cd yolov5 && git checkout feature-comet-integration\n",
    "%cd yolov5 \n",
    "%pip install -qr requirements.txt"
   ]
  },
  {
   "cell_type": "code",
   "execution_count": null,
   "id": "82f58768",
   "metadata": {},
   "outputs": [],
   "source": [
    "import torch\n",
    "import utils\n",
    "import os\n",
    "display = utils.notebook_init()  # checks\n",
    "print(f\"Setup complete. Using torch {torch.__version__} ({torch.cuda.get_device_properties(0).name if torch.cuda.is_available() else 'CPU'})\")"
   ]
  },
  {
   "cell_type": "markdown",
   "id": "6992c94a",
   "metadata": {},
   "source": [
    "Here, we'll create a `yaml` file for our penguins dataset that points to our Comet Artifact. If you're using your own Artifact, the `path` should follow the structure: `\"comet://<workspace-name>/<dataset-name>:<version or alias>\"`."
   ]
  },
  {
   "cell_type": "code",
   "execution_count": null,
   "id": "70036bcc",
   "metadata": {},
   "outputs": [],
   "source": [
    "import yaml\n",
    "\n",
    "penguins_file = ({\n",
    "  \"names\": {\n",
    "    0: \"penguin\"\n",
    "  },\n",
    "  \"nc\": 1,\n",
    "  \"path\": \"comet://team-comet-ml/penguin-detection-dataset:latest\",\n",
    "  \"test\": \"/test/images\",\n",
    "  \"train\": \"/train/images\",\n",
    "  \"val\": \"/valid/images\"\n",
    "})\n",
    "\n",
    "with open(r'penguins.yaml', 'w') as file:\n",
    "    documents = yaml.dump(penguins_file, file)"
   ]
  },
  {
   "cell_type": "markdown",
   "id": "e76184c1",
   "metadata": {},
   "source": [
    "# ⭐ Log Automatically With Comet\n",
    "\n",
    "With the Yolov5 integration, **Comet automatically logs each of the following, straight out-of-the-box, and without any additional code:**\n",
    "\n",
    "#### **Metrics:**\n",
    "- Box Loss, Object Loss, Classification Loss for the training and validation data\n",
    "- mAP_0.5, mAP_0.5:0.95 metrics for the validation data.\n",
    "- Precision and Recall for the validation data\n",
    "\n",
    "#### **Parameters:**\n",
    "- Model Hyperparameters\n",
    "- All parameters passed through the command line options\n",
    "- Confusion Matrix of the model predictions on the validation data\n",
    "\n",
    "#### **Visualiztions:**\n",
    "- Plots for the PR and F1 curves across all classes\n",
    "- Correlogram of the Class Labels"
   ]
  },
  {
   "cell_type": "markdown",
   "id": "e9948452",
   "metadata": {},
   "source": [
    "[![auto-logging.gif](https://s4.gifyu.com/images/auto-logging.gif)](https://www.comet.com/site/)"
   ]
  },
  {
   "cell_type": "markdown",
   "id": "1e799216",
   "metadata": {},
   "source": [
    "Later on we'll explore even more custom logging capabailites, but it looks like we're off to a great start with Comet's automatic logging functionalities!"
   ]
  },
  {
   "cell_type": "markdown",
   "id": "e3e23b84",
   "metadata": {},
   "source": [
    "# 🦾 Train YOLOv5 on a Comet Artifact\n",
    "____\n",
    "\n",
    "\n",
    "Here we're able to pass a number of arguments to initiate our training run:\n",
    "- **`img`:** defines original input image size; the model will perform all necessary pre-processing, including resizing, as well as scaling the pixel range to 0-1.\n",
    "- **`batch`:** defines the batch size.\n",
    "- **`epochs`:** defines the number of training epochs.  \n",
    "- **`data`:** specifies the name of the `yaml` file (created above) that will point to the Comet Artifact containing our dataset. \n",
    "- **`cache`:** provides the option to cache images for faster training.\n",
    "- **`weights`:** specifies the path to the saved weights you'd like to start our transfer learning from. For this tutorial, we will choose the weights corresponding to the \"small\" `yolov5s` checkpoint.\n",
    "\n",
    "Additionally, we can log model predictions (and their associated images) by passing the **`bbox_interval`** command line argument. These bounding box predictions can then be visualized using Comet's Object Detection Custom Panel.\n",
    "\n",
    "Here is an [example project using the Panel](https://www.comet.com/examples/comet-example-yolov5?shareable=YcwMiJaZSXfcEXpGOHDD12vA1&ref=yolov5&utm_source=yolov5&utm_medium=affilliate&utm_campaign=yolov5_comet_integration), or see the gif below:\n"
   ]
  },
  {
   "cell_type": "code",
   "execution_count": null,
   "id": "bb92f08d",
   "metadata": {},
   "outputs": [],
   "source": [
    "python tools/benchmarking/benchmark.py \\\n",
    "--config <relative-or-absolute-path>/<paramfile>.yaml"
   ]
  },
  {
   "cell_type": "code",
   "execution_count": null,
   "id": "6c184a70",
   "metadata": {},
   "outputs": [],
   "source": [
    "!python train.py \\\n",
    "--img 640 \\\n",
    "--batch 16 \\\n",
    "--epochs 3 \\\n",
    "--data ./penguins.yaml \\\n",
    "--weights yolov5s.pt \\\n",
    "--bbox_interval 1"
   ]
  },
  {
   "cell_type": "markdown",
   "id": "597332a2",
   "metadata": {},
   "source": [
    "[![penguins_yolov5-2.gif](https://s5.gifyu.com/images/penguins_yolov5-2.gif)](https://www.comet.com/site/)"
   ]
  },
  {
   "cell_type": "markdown",
   "id": "664d8780",
   "metadata": {},
   "source": [
    "# 🛠 Configure Custom Comet Logging\n",
    "\n",
    "\n",
    "Comet's custom logging capabilities don't end there! Track and visualize model metrics in real time, save your hyperparameters, datasets, and model checkpoints, and visualize your model predictions with [Comet Custom Panels](https://www.comet.com/docs/v2/guides/comet-dashboard/code-panels/about-panels/?utm_source=colab&utm_medium=referral&utm_campaign=yolov5_comet_integration_launch)! Here are a few more examples of what we can do with just a simple command line flag or environment variable:"
   ]
  },
  {
   "cell_type": "markdown",
   "id": "80e5d87f",
   "metadata": {},
   "source": [
    "## Uploading a Dataset to Comet Artifacts\n",
    "\n",
    "\n",
    "If you would like to store your data using [Comet Artifacts](https://www.comet.com/docs/v2/guides/data-management/using-artifacts/#learn-more?ref=yolov5&utm_source=yolov5&utm_medium=affilliate&utm_campaign=yolov5_comet_integration), you can do so using the `upload_dataset` flag.\n",
    "\n",
    "The dataset be organized in the way described in the [YOLOv5 documentation](https://docs.ultralytics.com/tutorials/train-custom-datasets/#3-organize-directories). The dataset config `yaml` file must follow the same format as that of the `coco128.yaml` file (built-in to Yolov5) or the `penguins.yaml` file (shown above)."
   ]
  },
  {
   "cell_type": "code",
   "execution_count": null,
   "id": "a4557cda",
   "metadata": {},
   "outputs": [],
   "source": [
    "!python train.py \\\n",
    "--img 640 \\\n",
    "--batch 16 \\\n",
    "--epochs 5 \\\n",
    "--data ./penguins.yaml \\\n",
    "--weights yolov5s.pt \\\n",
    "--upload_dataset \"train\""
   ]
  },
  {
   "cell_type": "markdown",
   "id": "d534e69c",
   "metadata": {},
   "source": [
    "### Using a saved Artifact\n",
    "\n",
    "If you would like to use a different dataset from Comet Artifacts, or if you would like to be able to try different datasets on the same model, simply set the `path` variable in your dataset `yaml` file to point to the following Artifact resource URL:\n",
    "\n",
    "```\n",
    "# contents of artifact.yaml file\n",
    "path:\"comet://<workspace name>/<artifact name>:<artifact version or alias>\"\n",
    "```\n",
    "Then pass your file to your training script with this command:"
   ]
  },
  {
   "cell_type": "code",
   "execution_count": null,
   "id": "2130a77f",
   "metadata": {},
   "outputs": [],
   "source": [
    "!echo \"path: \\\"comet://<workspace name>/<artifactnam>:<artifact version or alias>\\\"\" >> /content/yolov5/data/artifact.yaml"
   ]
  },
  {
   "cell_type": "code",
   "execution_count": null,
   "id": "a38d5856",
   "metadata": {},
   "outputs": [],
   "source": [
    "!python train.py \\\n",
    "--img 640 \\\n",
    "--batch 16 \\\n",
    "--epochs 5 \\\n",
    "--data /content/yolov5/data/artifact.yaml \\\n",
    "--weights yolov5s.pt \\"
   ]
  },
  {
   "cell_type": "markdown",
   "id": "0fe859bd",
   "metadata": {},
   "source": [
    "## Logging Checkpoints with Comet\n",
    "\n",
    "Logging Models to Comet is disabled by default, but to enable it, just pass the `save-period` argument to the training script. This will save the\n",
    "logged checkpoints to Comet based on the interval value provided to `save-period`.\n",
    "\n",
    "Find yor checkpoints in the [Assets and Artifacts](https://www.comet.com/examples/comet-example-yolov5/a0e29e0e9b984e4a822db2a62d0cb357?assetId=7df85817e69b4997a803f947334155e6&assetPath=models%2Cyolov5&experiment-tab=assets) tab in your Experiment."
   ]
  },
  {
   "cell_type": "code",
   "execution_count": null,
   "id": "87c2c48c",
   "metadata": {},
   "outputs": [],
   "source": [
    "!python train.py \\\n",
    "--img 640 \\\n",
    "--batch 16 \\\n",
    "--epochs 5 \\\n",
    "--data coco128.yaml \\\n",
    "--weights yolov5s.pt \\\n",
    "--save-period 1 "
   ]
  },
  {
   "cell_type": "markdown",
   "id": "b1df8721",
   "metadata": {},
   "source": [
    "You can find the uploaded dataset in the Artifacts tab in your Comet workspace and you can preview the data directly in the Comet UI. Artifacts are versioned and also support adding metadata. Comet will automatically log this metadata from your dataset `yaml` file."
   ]
  },
  {
   "cell_type": "markdown",
   "id": "4c127ff2",
   "metadata": {},
   "source": [
    "### Controlling the number of Prediction Images logged to Comet\n",
    "\n",
    "When logging predictions from YOLOv5, Comet will log the images associated with each set of predictions. By default a maximum of 100 validation images are logged. You can increase or decrease this number using the `COMET_MAX_IMAGE_UPLOADS` environment variable."
   ]
  },
  {
   "cell_type": "code",
   "execution_count": null,
   "id": "c0e2d134",
   "metadata": {},
   "outputs": [],
   "source": [
    "!env COMET_LOG_PER_CLASS_METRICS=true python train.py \\\n",
    "--img 640 \\\n",
    "--batch 16 \\\n",
    "--epochs 5 \\\n",
    "--data coco128.yaml \\\n",
    "--weights yolov5s.pt "
   ]
  },
  {
   "cell_type": "markdown",
   "id": "ed5137d3",
   "metadata": {},
   "source": [
    "## Resuming a Training Run\n",
    "\n",
    "If your training run is interrupted for any reason, e.g. disrupted internet connection, you can resume the run using the `resume` flag and the Comet Run Path.\n",
    "\n",
    "The Run Path has the following format `comet://<your workspace name>/<your project name>/<experiment id>`.\n",
    "\n",
    "This will restore the run to its state before the interruption, which includes restoring the  model from a checkpoint, restoring all hyperparameters and training arguments and downloading Comet dataset Artifacts if they were used in the original run. The resumed run will continue logging to the existing Experiment in the Comet UI"
   ]
  },
  {
   "cell_type": "code",
   "execution_count": null,
   "id": "c1ade8f5",
   "metadata": {},
   "outputs": [],
   "source": [
    "!python train.py \\\n",
    "--resume \"comet://<your run path>\""
   ]
  }
 ],
 "metadata": {
  "kernelspec": {
   "display_name": "Python 3",
   "language": "python",
   "name": "python3"
  },
  "language_info": {
   "codemirror_mode": {
    "name": "ipython",
    "version": 3
   },
   "file_extension": ".py",
   "mimetype": "text/x-python",
   "name": "python",
   "nbconvert_exporter": "python",
   "pygments_lexer": "ipython3",
   "version": "3.8.8"
  }
 },
 "nbformat": 4,
 "nbformat_minor": 5
}
