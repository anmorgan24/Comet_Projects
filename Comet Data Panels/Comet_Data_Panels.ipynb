{
 "cells": [
  {
   "cell_type": "markdown",
   "id": "cd7a86c1",
   "metadata": {},
   "source": [
    "<img align=\"left\" src=\"https://cdn.comet.ml/img/notebook_logo.png\">"
   ]
  },
  {
   "cell_type": "markdown",
   "id": "be674f80",
   "metadata": {},
   "source": [
    "**Check out the [Colab here](https://colab.research.google.com/drive/1Jy3IiJenxeEO6TtfctlnZSaoNJo3sIZv)!**\n",
    "\n",
    "# ☄ Comet Data Panels\n",
    "\n",
    "Comet’s long-standing mission is to help Data Scientists and Machine Learning Engineers find the best model for their use-case by arming them with powerful tools and visualizations. In an effort to continue to deliver on this mission, we are excited to launch our new built-in panel: **The Data Panel**. The Data Panel allows users to visualize and interact with their tabular data and aggregate tables across Experiments. The Panel works out of the box with pandas dataframes and .csv files.\n",
    "\n",
    "To showcase our new Data Panel, we’ve put together a public project using [Kaggle’s Credit Card Fraud Detection dataset](https://www.kaggle.com/datasets/mlg-ulb/creditcardfraud). View the [Comet public project here](https://www.comet.com/anmorgan24/datapanels/view/ndkH4IkEmrTdYr0hvO97AxjeY/panels?utm_source=Medium&utm_medium=referral&utm_content=data_panels_blog)."
   ]
  },
  {
   "cell_type": "markdown",
   "id": "2e8afb44",
   "metadata": {},
   "source": [
    "## 🔩 Install requirements & set up\n",
    "______"
   ]
  },
  {
   "cell_type": "code",
   "execution_count": null,
   "id": "c9bf5da7",
   "metadata": {},
   "outputs": [],
   "source": [
    "!pip install comet_ml torch torchvision tqdm --quiet"
   ]
  },
  {
   "cell_type": "markdown",
   "id": "502e2eeb",
   "metadata": {},
   "source": [
    "To instantiate your Comet Experiment, you'll need to grab your API key from your [account settings](https://www.comet.com/account-settings/profile?utm_source=Medium&utm_medium=referral&utm_content=data_panels_blog). If you don't already have an account, **[create one here for free](https://www.comet.com/signup?utm_source=Medium&utm_medium=referral&utm_content=data_panels_blog)**."
   ]
  },
  {
   "cell_type": "code",
   "execution_count": null,
   "id": "7a68c351",
   "metadata": {},
   "outputs": [],
   "source": [
    "import comet_ml\n",
    "from comet_ml import Experiment \n",
    "\n",
    "experiment = Experiment(\n",
    "    api_key = \"jhoFz6kc5AUd9VUfPSGqlaBnp\",\n",
    "    project_name = \"datapanels-testing\",\n",
    "    workspace = \"anmorgan24\"\n",
    ")"
   ]
  },
  {
   "cell_type": "code",
   "execution_count": null,
   "id": "1a44c7d4",
   "metadata": {},
   "outputs": [],
   "source": [
    "import numpy as np\n",
    "import pandas as pd\n",
    "from tqdm import tqdm\n",
    "\n",
    "from sklearn.preprocessing import StandardScaler\n",
    "from sklearn.metrics import precision_recall_curve, classification_report, confusion_matrix\n",
    "from sklearn.manifold import TSNE\n",
    "\n",
    "import torch\n",
    "import torch.nn as nn\n",
    "import torch.nn.functional as F\n",
    "import torch.utils.data as data_utils\n",
    "from torch.utils.data import Dataset, DataLoader\n",
    "\n",
    "from matplotlib import pyplot as plt\n",
    "import matplotlib.image as img\n",
    "import seaborn as sns"
   ]
  },
  {
   "cell_type": "markdown",
   "id": "3fde3445",
   "metadata": {},
   "source": [
    "To run the following cell, first upload a `kaggle.json` file with your Kaggle credentials."
   ]
  },
  {
   "cell_type": "code",
   "execution_count": null,
   "id": "bb85cce9",
   "metadata": {},
   "outputs": [],
   "source": [
    "!pip install -q kaggle\n",
    "!mkdir ~/.kaggle\n",
    "!cp kaggle.json ~/.kaggle/\n",
    "!chmod 600 ~/.kaggle/kaggle.json\n",
    "!kaggle datasets download -d mlg-ulb/creditcardfraud; unzip creditcardfraud.zip; rm creditcardfraud.zip"
   ]
  },
  {
   "cell_type": "markdown",
   "id": "32bb1dcf",
   "metadata": {},
   "source": [
    "## 🛠 Data preparation\n",
    "_____\n",
    "\n",
    "\n",
    "[Fraud detection](https://heartbeat.comet.ml/fraud-detection-imbalanced-classification-and-managing-your-machine-learning-experiments-using-224ecf00bf7e) comes with its own set of unique challenges. Fraudulent transactions represent anomalous data that make up a very small percentage of total transactions. These significant [class imbalances](https://heartbeat.comet.ml/imbalanced-classification-demystified-66a401d6e805) make many traditional evaluation metrics, like [accuracy](https://machinelearningmastery.com/failure-of-accuracy-for-imbalanced-class-distributions/), irrelevant. In the Kaggle dataset, fraud makes up just 0.172% of all transactions, meaning a model that predicted “no fraud” for every single observation would still achieve an accuracy of over 98%! \n",
    "\n",
    "In the pie chart below, fraudulent transactions are represented by the tiny orange sliver!\n"
   ]
  },
  {
   "cell_type": "code",
   "execution_count": null,
   "id": "6adeff19",
   "metadata": {},
   "outputs": [],
   "source": [
    "data = pd.read_csv('creditcard.csv')"
   ]
  },
  {
   "cell_type": "code",
   "execution_count": null,
   "id": "f6e1f171",
   "metadata": {},
   "outputs": [],
   "source": [
    "orange, purple = '#ffa022', '#4012ff'\n",
    "fig, ax = plt.subplots()\n",
    "ax.pie(data.groupby(['Class']).Class.count(), labels= ['Normal', 'Fraud'], colors=[purple, orange])\n",
    "plt.title('Normal vs fraudulent transactions')\n",
    "plt.show()"
   ]
  },
  {
   "cell_type": "markdown",
   "id": "51804ca0",
   "metadata": {},
   "source": [
    "Additionally, in order to protect all personally identifiable information ([PII](https://www.techtarget.com/searchsecurity/definition/personally-identifiable-information-PII)) in this dataset, all features (besides `Time` and `Amount`) have undergone a [PCA](https://en.wikipedia.org/wiki/Principal_component_analysis) transformation. This means that we cannot use any domain knowledge for the purposes of feature engineering or selection. \n",
    "\n",
    "Let's start out by visualizing our data. It would be impossible to plot 30 dimensions, so first we'll apply [t-SNE](https://en.wikipedia.org/wiki/T-distributed_stochastic_neighbor_embedding), a dataset decomposition technique, and plot the 2 components with maximum information."
   ]
  },
  {
   "cell_type": "code",
   "execution_count": null,
   "id": "117f8e9a",
   "metadata": {},
   "outputs": [],
   "source": [
    "#data = pd.read_csv('creditcard.csv')\n",
    "\n",
    "# Take a random sample of 1000 normal transactions and all fraud transactions\n",
    "non_fraud = data[data['Class'] == 0].sample(1000)\n",
    "fraud = data[data['Class'] == 1]\n",
    "\n",
    "# Shuffle fraud and non_fraud samples and separate into features and labels\n",
    "df = non_fraud.append(fraud).sample(frac=1).reset_index(drop=True)\n",
    "X = df.drop(['Class'], axis = 1).values\n",
    "y = df[\"Class\"].values"
   ]
  },
  {
   "cell_type": "code",
   "execution_count": null,
   "id": "b84ec2d4",
   "metadata": {},
   "outputs": [],
   "source": [
    "def tsne_plot(X, y, name, title='TSNE plot of Fraud and Non Fraud'):\n",
    "    tsne = TSNE(n_components=2, random_state=24, init='random', learning_rate=200)\n",
    "    X_t = tsne.fit_transform(X)\n",
    "\n",
    "    plt.figure(figsize=(12,8))\n",
    "    plt.scatter(X_t[np.where(y==0), 0], X_t[np.where(y==0), 1], color='darkorange', alpha = 0.7, label = \"Non Fraud\")\n",
    "    plt.scatter(X_t[np.where(y==1), 0], X_t[np.where(y==1), 1], color='mediumblue', alpha = 0.7, label = \"Fraud\")\n",
    "\n",
    "    plt.legend(loc='best')\n",
    "    plt.title(title, fontsize=16)\n",
    "    experiment.log_figure(figure=plt)\n",
    "    plt.savefig(name)\n",
    "    plt.show()"
   ]
  },
  {
   "cell_type": "code",
   "execution_count": null,
   "id": "e1ffa57c",
   "metadata": {},
   "outputs": [],
   "source": [
    "tsne_plot(X, y, name=\"original.png\")"
   ]
  },
  {
   "cell_type": "markdown",
   "id": "d4782528",
   "metadata": {},
   "source": [
    "We can observe in this graph that there is little difference between fraudulent and non-fraudlent transactions. [Most machine learning models would struggle to classify this data as-is](https://machinelearningmastery.com/imbalanced-classification-is-hard/).\n",
    "\n",
    "First, we'll perform some very basic transformations to the data before feeding it to our model. The original **`Time`** feature represents the number of seconds elapsed between each transaction and the first transaction in the data. We'll convert this relative time measure to hour-of-the-day. \n",
    "\n",
    "We also scale the **`Time`** and **`Amount`** features, as all other features (**`V1`**, **`V2`**, ... **`V28`**) were previously scaled during the PCA transformation. Finally, because we are training an autoencoder to “learn” the embeddings of a normal transaction, we’ll subset just normal samples as our training dataset, and use a 50:50 split of normal and fraudulent samples for our validation set. We'll also set aside 250 samples for a test dataset of completely unseen data."
   ]
  },
  {
   "cell_type": "code",
   "execution_count": null,
   "id": "e3ab3c5c",
   "metadata": {},
   "outputs": [],
   "source": [
    "# Convert relative 'Time' measure to hour of day\n",
    "data[\"Time\"] = data[\"Time\"].apply(lambda x : x / 3600 % 24)\n",
    "\n",
    "# Scale 'Time' and 'Amount'\n",
    "data['Amount'] = StandardScaler().fit_transform(data['Amount'].values.reshape(-1, 1))\n",
    "data['Time'] = StandardScaler().fit_transform(data['Time'].values.reshape(-1, 1))\n",
    "\n",
    "# Separate fraudulent transactions from normal transactions\n",
    "norm_data, fraud_data = data[data['Class']==0], data[data['Class']==1]\n",
    "\n",
    "# Training data will be 2000 normal samples\n",
    "# Validation data will be 1000 samples, approximately half fraud and half normal samples; shuffled and with indices reset\n",
    "# We leave out 200 normal samples and 50 fraud samples for a final test dataset of 250 unseen samples; we'll choose a random subsample of these later\n",
    "train_data = norm_data.iloc[:2000, :]\n",
    "val_data = pd.concat([norm_data.iloc[2000:2558,:], fraud_data.iloc[:442, :]], axis =0).sample(frac=1).reset_index(drop=True)\n",
    "test_samples = pd.concat([norm_data.iloc[2558:2608,:], fraud_data.iloc[442:,:]], axis=0).sample(frac=1).reset_index(drop=True)"
   ]
  },
  {
   "cell_type": "markdown",
   "id": "7c06fbe6",
   "metadata": {},
   "source": [
    "## 🦾 Model training and inference\n",
    "______\n",
    "While there are various ways to approach this problem, one of the simplest and most effective is to use an autoencoder. Autoencoders learn an implicit representation of normality from the abundant “normal” samples, allowing us to reserve our sparse fraudulent data samples for testing. During inference, new samples are compared against the embeddings of normal samples to determine whether or not they are fraudulent.  While Deep Learning techniques aren’t applied to tabular data as often as [unstructured data](https://en.wikipedia.org/wiki/Unstructured_data), the stark class imbalances in this dataset make it a perfect candidate for use with an autoencoder. \n",
    "\n",
    "First we'll define our model hyperparameters and create DataLoader objects for our training and validation splits."
   ]
  },
  {
   "cell_type": "code",
   "execution_count": null,
   "id": "86403166",
   "metadata": {},
   "outputs": [],
   "source": [
    "# These hyperparameters will be logged\n",
    "hyper_params = {\n",
    "    \"learning_rate\": 1e-1/10,\n",
    "    \"epochs\": 150,\n",
    "    \"batch_size\": 32,\n",
    "    \"weight_decay\": 1e-8,\n",
    "    'threshold': 0.75\n",
    "}\n",
    "\n",
    "experiment.log_parameters(hyper_params)"
   ]
  },
  {
   "cell_type": "code",
   "execution_count": null,
   "id": "52b89ae3",
   "metadata": {},
   "outputs": [],
   "source": [
    "# Create pytorch data loader for training set\n",
    "train_target = torch.tensor(train_data['Class'].values.astype(np.float32))\n",
    "train = torch.tensor(train_data.drop('Class', axis = 1).values.astype(np.float32))\n",
    "train_tensor = data_utils.TensorDataset(train, train_target) \n",
    "train_loader = data_utils.DataLoader(dataset = train_tensor, batch_size = hyper_params['batch_size'], shuffle = True)\n",
    "\n",
    "# Create pytorch data loader for validation set\n",
    "val_target = torch.tensor(val_data['Class'].values.astype(np.float32))\n",
    "val = torch.tensor(val_data.drop('Class', axis = 1).values.astype(np.float32))\n",
    "val_tensor = data_utils.TensorDataset(val, val_target) \n",
    "val_loader = data_utils.DataLoader(dataset = val_tensor, batch_size = 1, shuffle = True)"
   ]
  },
  {
   "cell_type": "code",
   "execution_count": null,
   "id": "f24cf0b4",
   "metadata": {},
   "outputs": [],
   "source": [
    "class Autoencoder(nn.Module):\n",
    "    def __init__(self):\n",
    "        super().__init__()\n",
    "        self.encoder = nn.Sequential(\n",
    "            nn.Linear(30,14),\n",
    "            nn.Tanh(),\n",
    "            nn.Linear(14,7),\n",
    "            nn.Tanh(),\n",
    "            )\n",
    "        self.decoder = nn.Sequential(\n",
    "            nn.Linear(7, 14),\n",
    "            nn.Tanh(),\n",
    "            nn.Linear(14,30),\n",
    "            nn.Tanh()\n",
    "            )\n",
    "    def forward(self,x):\n",
    "        x = self.encoder(x)\n",
    "        x = self.decoder(x)\n",
    "        return x"
   ]
  },
  {
   "cell_type": "code",
   "execution_count": null,
   "id": "0ed39677",
   "metadata": {},
   "outputs": [],
   "source": [
    "model = Autoencoder()\n",
    "criterion = nn.MSELoss()\n",
    "optimizer = torch.optim.Adam(model.parameters(), \n",
    "                             lr=hyper_params[\"learning_rate\"], \n",
    "                             weight_decay=hyper_params['weight_decay'])"
   ]
  },
  {
   "cell_type": "code",
   "execution_count": null,
   "id": "b86c4a77",
   "metadata": {},
   "outputs": [],
   "source": [
    "for epoch in range(hyper_params['epochs']):\n",
    "    losses = []\n",
    "    for (data, _) in train_loader:\n",
    "        # ===================forward=====================\n",
    "        output = model(data)\n",
    "        loss = criterion(output, data)     \n",
    "        # ===================backward====================\n",
    "        optimizer.zero_grad()\n",
    "        loss.backward()\n",
    "        optimizer.step()\n",
    "        losses.append(loss.detach().cpu().numpy())\n",
    "    # ===================log========================\n",
    "    experiment.log_metric('epoch_loss', np.mean(losses), epoch = epoch+1)\n",
    "\n",
    "    losses = []\n",
    "    labels = []\n",
    "    preds = []\n",
    "    embeds = []\n",
    "    \n",
    "    for data, label in val_loader:\n",
    "        # ===================forward=====================\n",
    "        reconstructed = model(data)\n",
    "        loss = torch.sigmoid(criterion(reconstructed, data)).item()\n",
    "        losses.append(round((loss),6))\n",
    "        labels.append(label.item())\n",
    "        preds.append(reconstructed[0][-1].item())\n",
    "        embeds.append(reconstructed[0][:-1].detach().cpu().numpy())\n",
    "\n",
    "    # ===================log========================  \n",
    "    experiment.log_metric('val_loss', np.mean(losses), epoch = epoch +1)\n",
    "\n",
    "    if epoch == (hyper_params[\"epochs\"] - 1):\n",
    "        print(\"logging table\")\n",
    "        df = pd.DataFrame()\n",
    "        df['Reconstruction_Loss'] = losses\n",
    "        df['Labels_gt'] = labels\n",
    "        df['Labels_preds']= [int(x >= hyper_params['threshold']) for x in losses]\n",
    "        experiment.log_table('val_predictions.csv', df)\n",
    "print('complete')"
   ]
  },
  {
   "cell_type": "markdown",
   "id": "b6ead360",
   "metadata": {},
   "source": [
    "## ⤴ Precision-recall curve, threshold values, classification report\n",
    "____\n",
    "Define plot functions:"
   ]
  },
  {
   "cell_type": "code",
   "execution_count": null,
   "id": "24297550",
   "metadata": {},
   "outputs": [],
   "source": [
    "def plot_precision_recall_curves(df):\n",
    "    # Calculate precision and recall \n",
    "    precision, recall, thresholds = precision_recall_curve(labels, preds)\n",
    "\n",
    "    # Plot recall precision tradeoff\n",
    "    sns.set(style=\"white\")\n",
    "    plt.figure(figsize=(8,6))\n",
    "    plt.step(recall, precision, color= purple, alpha=0.4, where='post')\n",
    "    plt.fill_between(recall,precision,step='post',alpha=0.2,color=purple)\n",
    "    plt.title('Recall vs Precision', fontsize=16)\n",
    "    plt.xlabel('Recall')\n",
    "    plt.ylabel('Precision')\n",
    "    experiment.log_figure(figure=plt)\n",
    "    #plt.savefig('precision_recall_curve_x.png')\n",
    "    print(plt.show())\n",
    "\n",
    "    # Plot precision and recall for different thresholds\n",
    "    plt.figure(figsize=(8,6))\n",
    "    plt.plot(thresholds, precision[1:], label=\"Precision\",color= orange, linewidth=2.5)\n",
    "    plt.plot(thresholds, recall[1:], label=\"Recall\",color= purple, alpha=0.9,linewidth=2.5)\n",
    "    plt.title('Precision and recall for different threshold values', fontsize=16)\n",
    "    plt.xlabel('Threshold')\n",
    "    plt.ylabel('Precision/Recall')\n",
    "    plt.legend()\n",
    "    experiment.log_figure(figure=plt)\n",
    "    #plt.savefig('threshold_values_x.png')\n",
    "    plt.show()"
   ]
  },
  {
   "cell_type": "code",
   "execution_count": null,
   "id": "8349b178",
   "metadata": {},
   "outputs": [],
   "source": [
    "def reconstruction_error_plot(df, ylims = (None, None), title=\"Reconstruction error for different classes\"):  \n",
    "    groups = df.groupby('Labels_gt')\n",
    "    sns.set(style=\"white\")\n",
    "    sns.set_palette(sns.color_palette([orange, purple]))\n",
    "    fig, ax = plt.subplots(figsize=(8,6)) \n",
    "\n",
    "    for name, group in groups:\n",
    "        ax.plot(group.index, \n",
    "            group.Reconstruction_Loss, \n",
    "            marker='o', \n",
    "            ms=5, \n",
    "            linestyle='',\n",
    "            label= \"Fraud\" if name == 1 else \"Nonfraud\")\n",
    "    \n",
    "    ax.hlines(hyper_params['threshold'], \n",
    "            ax.get_xlim()[0], \n",
    "            ax.get_xlim()[1], \n",
    "            colors=\"r\", \n",
    "            zorder=100, \n",
    "            label='Threshold',\n",
    "            linestyle='--')\n",
    "    ax.legend()\n",
    "    plt.title(title, fontsize=16)\n",
    "    plt.ylabel(\"Reconstruction error\")\n",
    "    plt.xlabel(\"Data point index\")\n",
    "    plt.ylim(top=ylims[0], bottom=ylims[1])\n",
    "    plt.legend(loc='best')\n",
    "    experiment.log_figure(figure=plt)\n",
    "    #plt.savefig('reconstruction_error_plot_x.png')\n",
    "    plt.show()"
   ]
  },
  {
   "cell_type": "markdown",
   "id": "bad64e29",
   "metadata": {},
   "source": [
    "Plot metrics:"
   ]
  },
  {
   "cell_type": "code",
   "execution_count": null,
   "id": "8e9eb3a9",
   "metadata": {},
   "outputs": [],
   "source": [
    "plot_precision_recall_curves(df)"
   ]
  },
  {
   "cell_type": "code",
   "execution_count": null,
   "id": "e7afbc6c",
   "metadata": {},
   "outputs": [],
   "source": [
    "reconstruction_error_plot(df)"
   ]
  },
  {
   "cell_type": "code",
   "execution_count": null,
   "id": "cf1a2c33",
   "metadata": {},
   "outputs": [],
   "source": [
    "X = np.array(embeds)\n",
    "y = df['Labels_gt'].values\n",
    "tsne_plot(X, y, name='latent_rep.png')"
   ]
  },
  {
   "cell_type": "markdown",
   "id": "62ccece0",
   "metadata": {},
   "source": [
    "Let's take a look at the plot of our original dataset t-SNE plot versus that of our autoencoder embeddings:\n"
   ]
  },
  {
   "cell_type": "markdown",
   "id": "614c7982",
   "metadata": {},
   "source": [
    "sns.set(style=\"white\")\n",
    "plt.figure(figsize=(18,12))\n",
    "\n",
    "plt.subplot(1, 2, 1)\n",
    "plt.imshow(img.imread('original.png'))\n",
    "plt.axis('off')\n",
    "\n",
    "plt.subplot(1, 2, 2)\n",
    "plt.imshow(img.imread('latent_rep.png'))\n",
    "plt.axis('off')\n",
    "\n",
    "plt.tight_layout"
   ]
  },
  {
   "cell_type": "markdown",
   "id": "8f5c6c80",
   "metadata": {},
   "source": [
    "Clearly, the embeddings learned by our Autoencoder (on the right) are much easier to separate than the raw data (on the left). "
   ]
  },
  {
   "cell_type": "code",
   "execution_count": null,
   "id": "bf86f38a",
   "metadata": {},
   "outputs": [],
   "source": [
    "print(\"Classification report \\n {0}\".format(classification_report(df.Labels_gt, df.Labels_preds)))"
   ]
  },
  {
   "cell_type": "markdown",
   "id": "019e325c",
   "metadata": {},
   "source": [
    "Now our model is ready to be tested on new, unseen data. We’ll log the summary statistics of our test dataset to monitor for any data distribution shifts or disturbances. Later, we'll also be able to reference this metadata to help explain any unusual or unexpected outputs. The code snippet below logs the summary statistics of our test dataset as a csv file called “input_statistics”:"
   ]
  },
  {
   "cell_type": "code",
   "execution_count": null,
   "id": "97df3586",
   "metadata": {},
   "outputs": [],
   "source": [
    "# We take 10 random samples from the unseen test set we defined earlier\n",
    "test_data = test_samples.sample(10).reset_index(drop=True)\n",
    "\n",
    "# Log summary statistics of test data (only 5 columns, round to 4 decimal places)\n",
    "experiment.log_table('input_statistics.csv', test_data.describe().iloc[:,[0, 1, 2, 29, 30]].round(4))"
   ]
  },
  {
   "cell_type": "markdown",
   "id": "7185768b",
   "metadata": {},
   "source": [
    "Once we've completed training and inference, we can head over to the Comet UI to check out our Data Panels! Because we're using an interactive environment, first we'll call **`experiment.end()`** to ensure all logged tables are successfully uploaded."
   ]
  },
  {
   "cell_type": "code",
   "execution_count": null,
   "id": "6a0cd1c6",
   "metadata": {},
   "outputs": [],
   "source": [
    "experiment.end()"
   ]
  },
  {
   "cell_type": "markdown",
   "id": "6a48dc82",
   "metadata": {},
   "source": [
    "## ⚙ Using Data Panels\n",
    "\n",
    "____\n",
    "\n",
    "To add the Data Panels to your default view in the Comet UI, you can access them directly in the built-in panel options:\n",
    "\n",
    "[![add_Comet_data_panels.gif](https://s9.gifyu.com/images/add_data_panels.gif)](https://www.comet.com/site/)"
   ]
  },
  {
   "cell_type": "markdown",
   "id": "58e67276",
   "metadata": {},
   "source": [
    "Not detecting fraudulent cases when they are actually occurring could potentially cost banks and other financial institutions a lot of money. Let's take a look at instances where the ground truth label for a sample was fraud, but our model predicted no fraud ([false negatives](https://en.wikipedia.org/wiki/False_positives_and_false_negatives)). \n",
    "\n",
    "[![CometDataPanels_misclassifying.gif](https://s9.gifyu.com/images/DP_misclassifying.gif)](https://www.comet.com/site/)"
   ]
  },
  {
   "cell_type": "markdown",
   "id": "22af5a71",
   "metadata": {},
   "source": [
    "One of the most useful ways to use the Data Panel is to track how prediction columns are changing for the same samples across experiments. Concatenate the tables via columns and see side-by-side how your prediction columns are comparing to previous runs.\n",
    "\n",
    "[![DataPanels_concatenate_columns.gif](https://s9.gifyu.com/images/DP_concatenate_columns.gif)](https://www.comet.com/site/)"
   ]
  },
  {
   "cell_type": "markdown",
   "id": "dd8a82eb",
   "metadata": {},
   "source": [
    "If you have any feedback, or for help and support with Data Panels, please join the [Comet Community Slack channel](https://cometml.slack.com/join/shared_invite/zt-1fa356mer-2AMqwrzobWAJNx1oo1KSpQ#/shared-invite/email?utm_source=Medium&utm_medium=referral&utm_content=data_panels_blog)."
   ]
  }
 ],
 "metadata": {
  "kernelspec": {
   "display_name": "Python 3",
   "language": "python",
   "name": "python3"
  },
  "language_info": {
   "codemirror_mode": {
    "name": "ipython",
    "version": 3
   },
   "file_extension": ".py",
   "mimetype": "text/x-python",
   "name": "python",
   "nbconvert_exporter": "python",
   "pygments_lexer": "ipython3",
   "version": "3.8.8"
  }
 },
 "nbformat": 4,
 "nbformat_minor": 5
}
